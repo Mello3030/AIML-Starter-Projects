{
  "cells": [
    {
      "cell_type": "markdown",
      "source": [
        "##Assignment: Your task is to load a pre-trained GPT-2 model and configure it to answer only questions related to Python coding."
      ],
      "metadata": {
        "id": "Guw4T2D7THuG"
      }
    },
    {
      "cell_type": "markdown",
      "source": [
        " 1: Install and Import"
      ],
      "metadata": {
        "id": "A7WOBxiJQ01c"
      }
    },
    {
      "cell_type": "code",
      "source": [
        "!pip install transformers torch -q\n",
        "\n",
        "import torch\n",
        "from transformers import GPT2LMHeadModel, GPT2Tokenizer, pipeline\n",
        "import re"
      ],
      "metadata": {
        "id": "78fNlod_QndJ"
      },
      "execution_count": 18,
      "outputs": []
    },
    {
      "cell_type": "markdown",
      "source": [
        "2:Load GPT-2 Model\n"
      ],
      "metadata": {
        "id": "wUGfVAeBQwZO"
      }
    },
    {
      "cell_type": "code",
      "source": [
        "print(\"Loading GPT-2 model...\")\n",
        "\n",
        "# Load GPT-2\n",
        "tokenizer = GPT2Tokenizer.from_pretrained(\"gpt2\")\n",
        "model = GPT2LMHeadModel.from_pretrained(\"gpt2\")\n",
        "tokenizer.pad_token = tokenizer.eos_token\n",
        "\n",
        "# Create generator\n",
        "generator = pipeline('text-generation', model=model, tokenizer=tokenizer)\n",
        "\n",
        "print(\"GPT-2 model loaded!\")\n"
      ],
      "metadata": {
        "colab": {
          "base_uri": "https://localhost:8080/"
        },
        "id": "OUOLCrxSQoDW",
        "outputId": "35a856b1-dd8f-4bc0-f863-91bc259edf6b"
      },
      "execution_count": 19,
      "outputs": [
        {
          "output_type": "stream",
          "name": "stdout",
          "text": [
            "Loading GPT-2 model...\n"
          ]
        },
        {
          "output_type": "stream",
          "name": "stderr",
          "text": [
            "Device set to use cuda:0\n"
          ]
        },
        {
          "output_type": "stream",
          "name": "stdout",
          "text": [
            "GPT-2 model loaded!\n"
          ]
        }
      ]
    },
    {
      "cell_type": "markdown",
      "source": [
        "3:Python Question Detector"
      ],
      "metadata": {
        "id": "nd05rAMTQw1c"
      }
    },
    {
      "cell_type": "code",
      "source": [
        "def is_python_question(text):\n",
        "    \"\"\"Check if question is about Python coding\"\"\"\n",
        "\n",
        "    text_lower = text.lower()\n",
        "\n",
        "    # High confidence Python keywords\n",
        "    high_confidence_keywords = [\n",
        "        'python', 'def ', 'class ', 'import ', 'from ', '__init__',\n",
        "        'pip install', 'conda install', 'jupyter', 'colab',\n",
        "        'pandas', 'numpy', 'matplotlib', 'seaborn', 'sklearn',\n",
        "        'django', 'flask', 'fastapi', 'requests', 'beautifulsoup'\n",
        "    ]\n",
        "\n",
        "    # Python syntax patterns\n",
        "    python_syntax = [\n",
        "        'elif', 'except', 'finally', 'lambda', 'yield',\n",
        "        'with open', 'try:', 'except:', 'if __name__',\n",
        "        'self.', '.append(', '.extend(', '.join('\n",
        "    ]\n",
        "\n",
        "    # Programming concepts in Python context\n",
        "    coding_concepts = [\n",
        "        'list comprehension', 'dictionary comprehension',\n",
        "        'generator expression', 'decorator', 'context manager',\n",
        "        'virtual environment', 'package management',\n",
        "        'python script', 'python function', 'python class',\n",
        "        'python module', 'python package', 'python library'\n",
        "    ]\n",
        "\n",
        "    # Code-like patterns (regex)\n",
        "    code_patterns = [\n",
        "        r'def\\s+\\w+\\s*\\(',           # function definitions\n",
        "        r'class\\s+\\w+\\s*[\\(:]',      # class definitions\n",
        "        r'import\\s+[\\w\\.]+',         # import statements\n",
        "        r'from\\s+\\w+\\s+import',      # from-import\n",
        "        r'\\w+\\s*=\\s*\\[.*\\]',        # list assignments\n",
        "        r'\\w+\\s*=\\s*\\{.*\\}',        # dict assignments\n",
        "        r'print\\s*\\(',               # print statements\n",
        "        r'len\\s*\\(',                 # len() calls\n",
        "        r'range\\s*\\(',               # range() calls\n",
        "        r'for\\s+\\w+\\s+in\\s+',       # for loops\n",
        "        r'if\\s+.*:',                 # if statements\n",
        "        r'while\\s+.*:',              # while loops\n",
        "    ]\n",
        "\n",
        "    # Check all patterns\n",
        "    for keyword in high_confidence_keywords:\n",
        "        if keyword in text_lower:\n",
        "            return True\n",
        "\n",
        "    for syntax in python_syntax:\n",
        "        if syntax in text_lower:\n",
        "            return True\n",
        "\n",
        "    for concept in coding_concepts:\n",
        "        if concept in text_lower:\n",
        "            return True\n",
        "\n",
        "    for pattern in code_patterns:\n",
        "        if re.search(pattern, text_lower):\n",
        "            return True\n",
        "\n",
        "    return False\n",
        "\n",
        "print(\"Python detector ready!\")\n"
      ],
      "metadata": {
        "colab": {
          "base_uri": "https://localhost:8080/"
        },
        "id": "oGLIdCYtQoGi",
        "outputId": "d5714583-38ef-4bf2-cf39-deea4fe7d282"
      },
      "execution_count": 20,
      "outputs": [
        {
          "output_type": "stream",
          "name": "stdout",
          "text": [
            "Python detector ready!\n"
          ]
        }
      ]
    },
    {
      "cell_type": "markdown",
      "source": [
        " 4: Simple Assistant Function"
      ],
      "metadata": {
        "id": "iicWjuo1QxfT"
      }
    },
    {
      "cell_type": "code",
      "source": [
        "def ask_python_question(question):\n",
        "    \"\"\"Main function - answers only Python questions\"\"\"\n",
        "\n",
        "    print(f\"Question: {question}\")\n",
        "    print(\"-\" * 60)\n",
        "\n",
        "    # Check if Python question\n",
        "    if not is_python_question(question):\n",
        "        print(\"NOT PYTHON RELATED\")\n",
        "        print(\"I only answer Python coding questions.\")\n",
        "        print()\n",
        "        return\n",
        "\n",
        "    # Generate answer for Python questions\n",
        "    print(\"PYTHON QUESTION DETECTED - Generating answer...\")\n",
        "\n",
        "    prompt = f\"Python question: {question}\\nAnswer:\"\n",
        "\n",
        "    try:\n",
        "        response = generator(\n",
        "            prompt,\n",
        "            max_new_tokens=50,  # Limit to 50 new tokens only\n",
        "            temperature=0.7,\n",
        "            do_sample=True,\n",
        "            pad_token_id=tokenizer.eos_token_id,\n",
        "            truncation=True\n",
        "        )\n",
        "\n",
        "        answer = response[0]['generated_text'].replace(prompt, \"\").strip()\n",
        "\n",
        "        # Make answer shorter - take only first sentence or first 100 characters\n",
        "        if answer:\n",
        "            # Take first sentence or first 100 chars, whichever is shorter\n",
        "            first_sentence = answer.split('.')[0] + '.'\n",
        "            if len(first_sentence) > 100:\n",
        "                answer = answer[:100] + \"...\"\n",
        "            else:\n",
        "                answer = first_sentence\n",
        "            print(f\"Answer: {answer}\")\n",
        "        else:\n",
        "            print(\"Answer: I can help you with that Python question!\")\n",
        "\n",
        "    except Exception as e:\n",
        "        print(f\"Error: {e}\")\n",
        "\n",
        "    print()\n",
        "\n",
        "print(\"Assistant ready!\")"
      ],
      "metadata": {
        "colab": {
          "base_uri": "https://localhost:8080/"
        },
        "id": "hkfWN9d3QxoY",
        "outputId": "16a1ba08-c33d-45e5-c575-e71a51a1018c"
      },
      "execution_count": 21,
      "outputs": [
        {
          "output_type": "stream",
          "name": "stdout",
          "text": [
            "Assistant ready!\n"
          ]
        }
      ]
    },
    {
      "cell_type": "markdown",
      "source": [
        "5:Automatic Testing"
      ],
      "metadata": {
        "id": "D8PqmeFMQxvx"
      }
    },
    {
      "cell_type": "code",
      "source": [
        "print(\"🧪 TESTING THE ASSISTANT\")\n",
        "print(\"=\" * 70)\n",
        "\n",
        "# Test questions\n",
        "test_questions = [\n",
        "    # Python questions (should answer)\n",
        "    \"How do I create a list in Python?\",\n",
        "    \"What is def in Python?\",\n",
        "    \"How to use pandas dataframe?\",\n",
        "    \"Explain list comprehension\",\n",
        "    \"How does try except work?\",\n",
        "\n",
        "    # Non-Python questions (should reject)\n",
        "    \"What is the capital of France?\",\n",
        "    \"How do I bake a cake?\",\n",
        "    \"What's the weather today?\",\n",
        "]\n",
        "\n",
        "# Run tests\n",
        "for i, question in enumerate(test_questions, 1):\n",
        "    print(f\"TEST {i}:\")\n",
        "    ask_python_question(question)\n",
        "\n",
        "print(\"=\" * 70)\n",
        "print(\"TESTING COMPLETE!\")"
      ],
      "metadata": {
        "colab": {
          "base_uri": "https://localhost:8080/"
        },
        "id": "bOjliOaHQx2H",
        "outputId": "9af084f1-aecc-429f-bf3a-656176929e28"
      },
      "execution_count": 22,
      "outputs": [
        {
          "output_type": "stream",
          "name": "stdout",
          "text": [
            "🧪 TESTING THE ASSISTANT\n",
            "======================================================================\n",
            "TEST 1:\n",
            "Question: How do I create a list in Python?\n",
            "------------------------------------------------------------\n",
            "PYTHON QUESTION DETECTED - Generating answer...\n",
            "Answer: If you use a standard search engine like Google or Bing, you can create a list of all the words in a...\n",
            "\n",
            "TEST 2:\n",
            "Question: What is def in Python?\n",
            "------------------------------------------------------------\n",
            "PYTHON QUESTION DETECTED - Generating answer...\n",
            "Answer: Def is an interface to Python for data formats such as JSON and XML.\n",
            "\n",
            "TEST 3:\n",
            "Question: How to use pandas dataframe?\n",
            "------------------------------------------------------------\n",
            "PYTHON QUESTION DETECTED - Generating answer...\n",
            "Answer: The idea is that you want to use the dataframe type of your project as a starting point.\n",
            "\n",
            "TEST 4:\n",
            "Question: Explain list comprehension\n",
            "------------------------------------------------------------\n",
            "PYTHON QUESTION DETECTED - Generating answer...\n",
            "Answer: You can read it in more detail at the end of this post.\n",
            "\n",
            "TEST 5:\n",
            "Question: How does try except work?\n",
            "------------------------------------------------------------\n",
            "PYTHON QUESTION DETECTED - Generating answer...\n",
            "Answer: Try except works by using try and with try you can also use try and try.\n",
            "\n",
            "TEST 6:\n",
            "Question: What is the capital of France?\n",
            "------------------------------------------------------------\n",
            "NOT PYTHON RELATED\n",
            "I only answer Python coding questions.\n",
            "\n",
            "TEST 7:\n",
            "Question: How do I bake a cake?\n",
            "------------------------------------------------------------\n",
            "NOT PYTHON RELATED\n",
            "I only answer Python coding questions.\n",
            "\n",
            "TEST 8:\n",
            "Question: What's the weather today?\n",
            "------------------------------------------------------------\n",
            "NOT PYTHON RELATED\n",
            "I only answer Python coding questions.\n",
            "\n",
            "======================================================================\n",
            "TESTING COMPLETE!\n"
          ]
        }
      ]
    },
    {
      "cell_type": "markdown",
      "source": [
        "6: Usage Examples"
      ],
      "metadata": {
        "id": "0vxXoQngQx8P"
      }
    },
    {
      "cell_type": "code",
      "source": [
        "print(\"\\nHOW TO USE:\")\n",
        "print(\"ask_python_question('your question here')\")\n",
        "\n",
        "print(\"\\nTRY THESE:\")\n",
        "print(\"ask_python_question('How do I create a dictionary in Python?')\")\n",
        "print(\"ask_python_question('What is a for loop?')\")\n",
        "print(\"ask_python_question('How to import numpy?')\")\n",
        "\n",
        "print(\"\\nTHESE WILL BE REJECTED:\")\n",
        "print(\"ask_python_question('What is machine learning?')\")\n",
        "print(\"ask_python_question('How to cook pasta?')\")\n",
        "\n",
        "print(\"\\nREADY TO USE!\")"
      ],
      "metadata": {
        "colab": {
          "base_uri": "https://localhost:8080/"
        },
        "id": "-RSWcl86QoJH",
        "outputId": "4e14116c-d4e7-4250-cb94-2199e55027ad"
      },
      "execution_count": 23,
      "outputs": [
        {
          "output_type": "stream",
          "name": "stdout",
          "text": [
            "\n",
            "HOW TO USE:\n",
            "ask_python_question('your question here')\n",
            "\n",
            "TRY THESE:\n",
            "ask_python_question('How do I create a dictionary in Python?')\n",
            "ask_python_question('What is a for loop?')\n",
            "ask_python_question('How to import numpy?')\n",
            "\n",
            "THESE WILL BE REJECTED:\n",
            "ask_python_question('What is machine learning?')\n",
            "ask_python_question('How to cook pasta?')\n",
            "\n",
            "READY TO USE!\n"
          ]
        }
      ]
    },
    {
      "cell_type": "markdown",
      "source": [
        "7:Manual Testing"
      ],
      "metadata": {
        "id": "BPwLro74Re2Y"
      }
    },
    {
      "cell_type": "code",
      "source": [
        "print(\"LIVE EXAMPLES\")\n",
        "\n",
        "\n",
        "# Example 1 - Python question\n",
        "ask_python_question(\"How do I create a variable in Python?\")\n",
        "\n",
        "# Example 2 - Non-Python question\n",
        "ask_python_question(\"What is the weather like today?\")\n",
        "\n",
        "# Example 3 - Python syntax\n",
        "ask_python_question(\"What does def mean in Python?\")\n",
        "\n",
        "print(\"ASSISTANT IS WORKING!\")"
      ],
      "metadata": {
        "colab": {
          "base_uri": "https://localhost:8080/"
        },
        "id": "ewg8HQuNQoMV",
        "outputId": "9d43de1e-72c1-46e6-d393-66f709792a39"
      },
      "execution_count": 26,
      "outputs": [
        {
          "output_type": "stream",
          "name": "stdout",
          "text": [
            "LIVE EXAMPLES\n",
            "Question: How do I create a variable in Python?\n",
            "------------------------------------------------------------\n",
            "PYTHON QUESTION DETECTED - Generating answer...\n",
            "Answer: I'll ask you to create a Python variable named \"my_variable\" in the Python interpreter.\n",
            "\n",
            "Question: What is the weather like today?\n",
            "------------------------------------------------------------\n",
            "NOT PYTHON RELATED\n",
            "I only answer Python coding questions.\n",
            "\n",
            "Question: What does def mean in Python?\n",
            "------------------------------------------------------------\n",
            "PYTHON QUESTION DETECTED - Generating answer...\n",
            "Answer: Def means, \"to create a rule or to create a rule (or to act as a rule).\n",
            "\n",
            "ASSISTANT IS WORKING!\n"
          ]
        }
      ]
    },
    {
      "cell_type": "markdown",
      "source": [
        "## Conclusion\n",
        "\n",
        "The project successfully demonstrated how placing a filter in front of a pre-trained LLM can create a specialized chatbot.\n",
        "\n",
        "The comprehensive keyword and pattern detection system worked effectively, accurately identifying Python-related queries while rejecting off-topic questions like weather or cooking, proving that even basic input control is highly effective.\n",
        "\n",
        "However, the base GPT-2 model revealed significant limitations. Its answers were often inaccurate or incomplete—for instance, generating partial responses or missing key Python concepts. The model produced text that appeared technical but frequently lacked factual correctness and depth expected for coding assistance.\n",
        "\n",
        "The experiment highlights that while general-purpose models can generate plausible text, they are insufficient for specialized expert tasks requiring accurate domain knowledge.\n",
        "\n",
        "Key findings:\n",
        "\n",
        "\n",
        "Overall, the project underscored both the power of input filtering and the critical importance of using domain-specific or properly fine-tuned models for specialized applications. While the filtering approach proved effective for scope control, the underlying model's limitations highlighted the need for more sophisticated approaches in production systems."
      ],
      "metadata": {
        "id": "fK07RD3BS5LH"
      }
    }
  ],
  "metadata": {
    "accelerator": "GPU",
    "colab": {
      "gpuType": "T4",
      "provenance": []
    },
    "kernelspec": {
      "display_name": "Python 3",
      "name": "python3"
    },
    "language_info": {
      "name": "python"
    }
  },
  "nbformat": 4,
  "nbformat_minor": 0
}